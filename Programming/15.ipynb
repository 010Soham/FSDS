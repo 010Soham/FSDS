{
 "cells": [
  {
   "cell_type": "markdown",
   "id": "71fa5bda",
   "metadata": {},
   "source": [
    "# 1\n",
    "Please write a program using generator to print the numbers which can be divisible by 5 and 7 between 0 and n in comma separated form while n is input by console. Example: If the following n is given as input to the program: 100 Then, the output of the program should be: 0,35,70"
   ]
  },
  {
   "cell_type": "code",
   "execution_count": 16,
   "id": "5d42d26c",
   "metadata": {},
   "outputs": [],
   "source": [
    "class q1:\n",
    "    def __init__(self):\n",
    "        pass\n",
    "    def func(self,n):\n",
    "        for i in range(0,n):\n",
    "            if (i%5==0) and (i%7==0):\n",
    "                yield i"
   ]
  },
  {
   "cell_type": "code",
   "execution_count": 17,
   "id": "723c989e",
   "metadata": {},
   "outputs": [
    {
     "name": "stdout",
     "output_type": "stream",
     "text": [
      "0 35 70 "
     ]
    }
   ],
   "source": [
    "obj = q1()\n",
    "for i in obj.func(100):\n",
    "    print(i,end=\" \")"
   ]
  },
  {
   "cell_type": "markdown",
   "id": "d1959cb4",
   "metadata": {},
   "source": [
    "# 2\n",
    "Please write a program using generator to print the even numbers between 0 and n in comma separated form while n is input by console. Example: If the following n is given as input to the program: 10 Then, the output of the program should be: 0,2,4,6,8,10"
   ]
  },
  {
   "cell_type": "code",
   "execution_count": 19,
   "id": "52dce5d8",
   "metadata": {},
   "outputs": [],
   "source": [
    "class q2:\n",
    "    def __init__(self):\n",
    "        pass\n",
    "    def func(self,n):\n",
    "        for i in range(n):\n",
    "            if i%2 == 0:\n",
    "                yield i"
   ]
  },
  {
   "cell_type": "code",
   "execution_count": 20,
   "id": "0caa94ea",
   "metadata": {},
   "outputs": [
    {
     "name": "stdout",
     "output_type": "stream",
     "text": [
      "0 2 4 6 8 "
     ]
    }
   ],
   "source": [
    "obj = q2()\n",
    "for i in obj.func(10):\n",
    "    print(i,end=\" \")"
   ]
  },
  {
   "cell_type": "markdown",
   "id": "a1292666",
   "metadata": {},
   "source": [
    "# 3\n",
    "The Fibonacci Sequence is computed based on the following formula: f(n)=0 if n=0 f(n)=1 if n=1 f(n)=f(n-1)+f(n-2) if n>1 Please write a program using list comprehension to print the Fibonacci Sequence in comma separated form with a given n input by console. Example: If the following n is given as input to the program: separated form with a given n input by console. Example: If the following n is given as input to the program: 7\n",
    "\n",
    "Then, the output of the program should be: 0,1,1,2,3,5,8,13"
   ]
  },
  {
   "cell_type": "code",
   "execution_count": 25,
   "id": "63b2697d",
   "metadata": {},
   "outputs": [],
   "source": [
    "class q3:\n",
    "    def __init__(self):\n",
    "        pass\n",
    "    def func(self,n):\n",
    "        if n == 0:\n",
    "            return 0\n",
    "        elif n == 1:\n",
    "            return 1\n",
    "        else:\n",
    "            return self.func(n-1)+self.func(n-2)"
   ]
  },
  {
   "cell_type": "code",
   "execution_count": 26,
   "id": "d889928b",
   "metadata": {},
   "outputs": [
    {
     "name": "stdout",
     "output_type": "stream",
     "text": [
      "[0, 1, 1, 2, 3, 5, 8, 13, 21, 34, 55, 89, 144, 233, 377, 610, 987, 1597, 2584, 4181]\n"
     ]
    }
   ],
   "source": [
    "obj = q3()\n",
    "print([obj.func(x) for x in range(20)])"
   ]
  },
  {
   "cell_type": "markdown",
   "id": "d5e0f406",
   "metadata": {},
   "source": [
    "# 4\n",
    "Assuming that we have some email addresses in the \"username@companyname.com\" format, please write program to print the user name of a given email address. Both user names and company names are composed of letters only. Example: If the following email address is given as input to the program: john@google.com Then, the output of the program should be: john"
   ]
  },
  {
   "cell_type": "code",
   "execution_count": 28,
   "id": "87866b26",
   "metadata": {},
   "outputs": [],
   "source": [
    "class q4:\n",
    "    def __init__(self):\n",
    "        pass\n",
    "    def func(self):\n",
    "        inp = input(\"Email address pls = \")\n",
    "        op = inp.split(\"@\")\n",
    "        print(f\"Uname of {inp} is {op[0]}\")\n",
    "    def getUserName():\n",
    "        inputString = input(\"Enter you Email Address: \")\n",
    "        outputString = inputString.split('@')\n",
    "        print(f'Username of {inputString} is {outputString[0]}')\n"
   ]
  },
  {
   "cell_type": "code",
   "execution_count": 29,
   "id": "cfec5a48",
   "metadata": {},
   "outputs": [
    {
     "name": "stdout",
     "output_type": "stream",
     "text": [
      "Email address pls = john@google.com\n",
      "Uname of john@google.com is john\n",
      "Email address pls = soham@google.com\n",
      "Uname of soham@google.com is soham\n",
      "Email address pls = ronnie@google.com\n",
      "Uname of ronnie@google.com is ronnie\n"
     ]
    }
   ],
   "source": [
    "obj = q4()\n",
    "for i in range(3):\n",
    "    obj.func()\n",
    "    "
   ]
  },
  {
   "cell_type": "markdown",
   "id": "d4574b60",
   "metadata": {},
   "source": [
    "# 5\n",
    "Define a class named Shape and its subclass Square. The Square class has an init function which takes a length as argument. Both classes have a area function which can print the area of the shape where Shape's area is 0 by default."
   ]
  },
  {
   "cell_type": "code",
   "execution_count": 30,
   "id": "bc76e20e",
   "metadata": {},
   "outputs": [
    {
     "name": "stdout",
     "output_type": "stream",
     "text": [
      "2500\n"
     ]
    }
   ],
   "source": [
    "class Shape:\n",
    "    def area(self):\n",
    "        return 0\n",
    "\n",
    "class Square(Shape):\n",
    "    def __init__(self, length):\n",
    "        self.length = length\n",
    "    def area(self):\n",
    "        return self.length*self.length\n",
    "\n",
    "square = Square(50)\n",
    "print(square.area())\n",
    "\n",
    "\n"
   ]
  },
  {
   "cell_type": "code",
   "execution_count": null,
   "id": "0ca362c0",
   "metadata": {},
   "outputs": [],
   "source": []
  }
 ],
 "metadata": {
  "kernelspec": {
   "display_name": "Python 3 (ipykernel)",
   "language": "python",
   "name": "python3"
  },
  "language_info": {
   "codemirror_mode": {
    "name": "ipython",
    "version": 3
   },
   "file_extension": ".py",
   "mimetype": "text/x-python",
   "name": "python",
   "nbconvert_exporter": "python",
   "pygments_lexer": "ipython3",
   "version": "3.8.12"
  }
 },
 "nbformat": 4,
 "nbformat_minor": 5
}
