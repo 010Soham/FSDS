{
 "cells": [
  {
   "cell_type": "markdown",
   "id": "fc0ca19c",
   "metadata": {},
   "source": [
    "# Question 1:\n",
    "<li>Write a program that calculates and prints the value according to the given formula:</li>\n",
    "<li>Q = Square root of [(2 * C * D)/H],</li>\n",
    "<li>Following are the fixed values of C and H:</li>\n",
    "<li>C is 50. H is 30.</li>\n",
    "<li>D is the variable whose values should be input to your program in a comma-separated</li>\n",
    "<li>sequence.</li>\n",
    "<li>Example</li>\n",
    "<li>Let us assume the following comma separated input sequence is given to the program:</li>\n",
    "<li>100,150,180</li>\n",
    "<li>The output of the program should be:</li>\n",
    "<li>18,22,24</li>"
   ]
  },
  {
   "cell_type": "code",
   "execution_count": 15,
   "id": "83642b02",
   "metadata": {},
   "outputs": [],
   "source": [
    "from math import sqrt\n",
    "class q1:\n",
    "    def __init__(self):\n",
    "        self.H = 30\n",
    "        self.C = 50\n",
    "        \n",
    "        self.D = eval(input(\"Input Number pls: \"))\n",
    "    def func(self):\n",
    "        op = []\n",
    "        for i in self.D:\n",
    "            square = str(int(sqrt((2*self.C*i)/self.H)))\n",
    "            op.append(square)\n",
    "        print(\"Output: {}\".format(','.join(op)))"
   ]
  },
  {
   "cell_type": "code",
   "execution_count": 16,
   "id": "c2d787c2",
   "metadata": {},
   "outputs": [
    {
     "name": "stdout",
     "output_type": "stream",
     "text": [
      "Input Number pls: 100,150,180\n"
     ]
    }
   ],
   "source": [
    "obj = q1()\n"
   ]
  },
  {
   "cell_type": "code",
   "execution_count": 17,
   "id": "d779d5d7",
   "metadata": {},
   "outputs": [
    {
     "name": "stdout",
     "output_type": "stream",
     "text": [
      "Output: 18,22,24\n"
     ]
    }
   ],
   "source": [
    "obj.func()"
   ]
  },
  {
   "cell_type": "markdown",
   "id": "6e33e43d",
   "metadata": {},
   "source": [
    "# Question 2\n",
    "\n",
    "Write a program which takes 2 digits, X,Y as input and generates a 2-dimensional array. The element value in the i-th row and j-th column of the array should be i*j.\n",
    "\n",
    "Note: i=0,1.., X-1; j=0,1,¡¬Y-1.\n",
    "\n",
    "Example\n",
    "\n",
    "Suppose the following inputs are given to the program:\n",
    "\n",
    "3,5\n",
    "\n",
    "Then, the output of the program should be:\n",
    "\n",
    "[[0, 0, 0, 0, 0], [0, 1, 2, 3, 4], [0, 2, 4, 6, 8]]\n",
    "\n"
   ]
  },
  {
   "cell_type": "code",
   "execution_count": 22,
   "id": "896ffb96",
   "metadata": {},
   "outputs": [],
   "source": [
    "import array as arr\n",
    "class q2:\n",
    "    \n",
    "    def __init__(self):\n",
    "        self.y = int(input('No of Columns pls:'))\n",
    "        self.x = int(input('No of Rows pls:'))\n",
    "        \n",
    "        \n",
    "    def func(self):\n",
    "        op = []\n",
    "        for i in range(self.x):\n",
    "            op.insert(self.x,[])\n",
    "            for j in range(self.y):\n",
    "                op[i].append(i*j)\n",
    "        print(op)"
   ]
  },
  {
   "cell_type": "code",
   "execution_count": 24,
   "id": "3393f659",
   "metadata": {},
   "outputs": [
    {
     "name": "stdout",
     "output_type": "stream",
     "text": [
      "No of Rows pls:3\n",
      "No of Columns pls:5\n"
     ]
    }
   ],
   "source": [
    "obj = q2()"
   ]
  },
  {
   "cell_type": "code",
   "execution_count": 25,
   "id": "442651c2",
   "metadata": {},
   "outputs": [
    {
     "name": "stdout",
     "output_type": "stream",
     "text": [
      "[[0, 0, 0, 0, 0], [0, 1, 2, 3, 4], [0, 2, 4, 6, 8]]\n"
     ]
    }
   ],
   "source": [
    "obj.func()"
   ]
  },
  {
   "cell_type": "markdown",
   "id": "2e1d3e85",
   "metadata": {},
   "source": [
    "# Question 3:\n",
    "\n",
    "Write a program that accepts a comma separated sequence of words as input and prints the words in a comma-separated sequence after sorting them alphabetically.\n",
    "\n",
    "Suppose the following input is supplied to the program:\n",
    "\n",
    "without,hello,bag,world\n",
    "\n",
    "Then, the output should be:\n",
    "\n",
    "bag,hello,without,world\n"
   ]
  },
  {
   "cell_type": "code",
   "execution_count": 29,
   "id": "db43c633",
   "metadata": {},
   "outputs": [],
   "source": [
    "class q3:\n",
    "    def __init__(self):\n",
    "        self.inp = input(\"String pls = \")\n",
    "    def func(self):\n",
    "        op = ','.join(sorted(self.inp.split(',')))\n",
    "        print(f\"Output String = {op}\")"
   ]
  },
  {
   "cell_type": "code",
   "execution_count": 31,
   "id": "3dd6c934",
   "metadata": {},
   "outputs": [
    {
     "name": "stdout",
     "output_type": "stream",
     "text": [
      "String pls = without,hello,bag,world\n"
     ]
    }
   ],
   "source": [
    "obj = q3()"
   ]
  },
  {
   "cell_type": "code",
   "execution_count": 32,
   "id": "026af24c",
   "metadata": {},
   "outputs": [
    {
     "name": "stdout",
     "output_type": "stream",
     "text": [
      "Output String = bag,hello,without,world\n"
     ]
    }
   ],
   "source": [
    "obj.func()"
   ]
  },
  {
   "cell_type": "markdown",
   "id": "1f8ad3b4",
   "metadata": {},
   "source": [
    "# Question 4\n",
    "\n",
    "Write a program that accepts a sequence of whitespace separated words as input and prints the words after removing all duplicate words and sorting them alphanumerically.\n",
    "\n",
    "Suppose the following input is supplied to the program:\n",
    "\n",
    "hello world and practice makes perfect and hello world again\n",
    "\n",
    "Then, the output should be:\n",
    "\n",
    "again and hello makes perfect practice world"
   ]
  },
  {
   "cell_type": "code",
   "execution_count": 39,
   "id": "f9ad0e40",
   "metadata": {},
   "outputs": [],
   "source": [
    "class q4:\n",
    "    def __init__(self):\n",
    "        self.inp = input(\"String pls = \")\n",
    "    def func(self):\n",
    "        op = ' '.join(sorted(sorted(list(set(self.inp.split(\" \"))))))\n",
    "        print(op)"
   ]
  },
  {
   "cell_type": "code",
   "execution_count": 40,
   "id": "9a11e2a4",
   "metadata": {},
   "outputs": [
    {
     "name": "stdout",
     "output_type": "stream",
     "text": [
      "String pls = hello world and practice makes perfect and hello world again\n"
     ]
    }
   ],
   "source": [
    "obj = q4()"
   ]
  },
  {
   "cell_type": "code",
   "execution_count": 41,
   "id": "28412a3c",
   "metadata": {},
   "outputs": [
    {
     "name": "stdout",
     "output_type": "stream",
     "text": [
      "again and hello makes perfect practice world\n"
     ]
    }
   ],
   "source": [
    "obj.func()"
   ]
  },
  {
   "cell_type": "markdown",
   "id": "3cc098bc",
   "metadata": {},
   "source": [
    "# Question 5\n",
    "\n",
    "Write a program that accepts a sentence and calculate the number of letters and digits.\n",
    "\n",
    "Suppose the following input is supplied to the program:\n",
    "\n",
    "hello world! 123\n",
    "\n",
    "Then, the output should be:\n",
    "\n",
    "LETTERS 10\n",
    "\n",
    "DIGITS 3"
   ]
  },
  {
   "cell_type": "code",
   "execution_count": 42,
   "id": "0ff0891e",
   "metadata": {},
   "outputs": [],
   "source": [
    "class q5:\n",
    "    \n",
    "    def __init__(self):\n",
    "        self.numbers_seq = \"0123456789\"\n",
    "        self.inp = input(\"String pls = \")\n",
    "        self.alpha_seq = \"ABCDEFGHIJKLMNOPQRSTUVWXYZabcdefghijklmnopqrstuvwxyz\"\n",
    "        \n",
    "        \n",
    "    def func(self):\n",
    "        alphabets = 0\n",
    "        numbers = 0\n",
    "        \n",
    "        for i in self.inp:\n",
    "            if i in self.alpha_seq:\n",
    "                alphabets+=1\n",
    "            if i in self.numbers_seq:\n",
    "                numbers+=1\n",
    "        \n",
    "        print(f\"Alphabets = {alphabets} and Digits = {numbers}\")"
   ]
  },
  {
   "cell_type": "code",
   "execution_count": 43,
   "id": "904c4cd9",
   "metadata": {},
   "outputs": [
    {
     "name": "stdout",
     "output_type": "stream",
     "text": [
      "String pls = hello world! 123\n"
     ]
    }
   ],
   "source": [
    "obj = q5()"
   ]
  },
  {
   "cell_type": "code",
   "execution_count": 44,
   "id": "bff3680b",
   "metadata": {},
   "outputs": [
    {
     "name": "stdout",
     "output_type": "stream",
     "text": [
      "Alphabets = 10 and Digits = 3\n"
     ]
    }
   ],
   "source": [
    "obj.func()"
   ]
  },
  {
   "cell_type": "markdown",
   "id": "09303b58",
   "metadata": {},
   "source": [
    "# Question 6\n",
    "\n",
    "\n",
    "\n",
    "A website requires the users to input username and password to register. Write a program to check the validity of password input by users.\n",
    "\n",
    "Following are the criteria for checking the password:\n",
    "\n",
    "    At least 1 letter between [a-z]\n",
    "\n",
    "    At least 1 number between [0-9]\n",
    "\n",
    "    At least 1 letter between [A-Z]\n",
    "\n",
    "    At least 1 character from [$#@]\n",
    "\n",
    "    Minimum length of transaction password: 6\n",
    "\n",
    "    Maximum length of transaction password: 12\n",
    "\n",
    "Your program should accept a sequence of comma separated passwords and will check them according to the above criteria. Passwords that match the criteria are to be printed, each separated by a comma.\n",
    "\n",
    "Example\n",
    "\n",
    "If the following passwords are given as input to the program:\n",
    "\n",
    "ABd1234@1,a F1#,2w3E*,2We3345\n",
    "\n",
    "Then, the output of the program should be:\n",
    "\n",
    "ABd1234@1\n"
   ]
  },
  {
   "cell_type": "code",
   "execution_count": 48,
   "id": "33f0c729",
   "metadata": {},
   "outputs": [],
   "source": [
    "class q6:\n",
    "    \n",
    "    def __init__(self):\n",
    "        self.inp = input(\"Input String pls = \")\n",
    "        self.numbers = \"0123456789\"\n",
    "        self.special_letters = \"$#@\"\n",
    "        self.small_letters = \"abcdefghijklmnopqrstuvwxyz\"\n",
    "        self.capital_letters = \"ABCDEFGHIJKLMNOPQRSTUVWXYZ\"\n",
    "        \n",
    "    def func(self):\n",
    "        #checking criteria through nested if's\n",
    "        for i in self.inp.split(\",\"):\n",
    "            if len(i) <= 12 and len(i) >=6:\n",
    "                if any(j.isupper() for j in i):\n",
    "                    if any(j.islower() for j in i):\n",
    "                        if any(j for j in i if j in self.special_letters):\n",
    "                            print(i)"
   ]
  },
  {
   "cell_type": "code",
   "execution_count": 49,
   "id": "89b1ff8b",
   "metadata": {},
   "outputs": [
    {
     "name": "stdout",
     "output_type": "stream",
     "text": [
      "Input String pls = ABd1234@1,a F1#,2w3E*,2We3345\n"
     ]
    }
   ],
   "source": [
    "obj = q6()"
   ]
  },
  {
   "cell_type": "code",
   "execution_count": 50,
   "id": "3af0808a",
   "metadata": {},
   "outputs": [
    {
     "name": "stdout",
     "output_type": "stream",
     "text": [
      "ABd1234@1\n"
     ]
    }
   ],
   "source": [
    "obj.func()"
   ]
  },
  {
   "cell_type": "code",
   "execution_count": null,
   "id": "ca906f47",
   "metadata": {},
   "outputs": [],
   "source": []
  }
 ],
 "metadata": {
  "kernelspec": {
   "display_name": "Python 3 (ipykernel)",
   "language": "python",
   "name": "python3"
  },
  "language_info": {
   "codemirror_mode": {
    "name": "ipython",
    "version": 3
   },
   "file_extension": ".py",
   "mimetype": "text/x-python",
   "name": "python",
   "nbconvert_exporter": "python",
   "pygments_lexer": "ipython3",
   "version": "3.8.12"
  }
 },
 "nbformat": 4,
 "nbformat_minor": 5
}
