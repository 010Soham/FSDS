{
 "cells": [
  {
   "cell_type": "markdown",
   "id": "70d3325a",
   "metadata": {},
   "source": [
    "# 1\n",
    "\n",
    "Define a class with a generator which can iterate the numbers, which are divisible by 7, between a given range 0 and n.\n"
   ]
  },
  {
   "cell_type": "code",
   "execution_count": 3,
   "id": "7a3656b0",
   "metadata": {},
   "outputs": [],
   "source": [
    "class q1:\n",
    "    def __init__(self,a):\n",
    "        self.inp = a\n",
    "    def func(self):\n",
    "        for i in range(0,self.inp+1):\n",
    "            if i%7 == 0:\n",
    "                yield i"
   ]
  },
  {
   "cell_type": "code",
   "execution_count": 4,
   "id": "a37229ef",
   "metadata": {},
   "outputs": [
    {
     "name": "stdout",
     "output_type": "stream",
     "text": [
      "0\n",
      "7\n",
      "14\n",
      "21\n",
      "28\n",
      "35\n",
      "42\n",
      "49\n",
      "56\n",
      "63\n",
      "70\n",
      "77\n",
      "84\n",
      "91\n",
      "98\n",
      "105\n",
      "112\n",
      "119\n",
      "126\n",
      "133\n",
      "140\n",
      "147\n",
      "154\n",
      "161\n",
      "168\n",
      "175\n",
      "182\n",
      "189\n",
      "196\n",
      "203\n",
      "210\n",
      "217\n",
      "224\n",
      "231\n",
      "238\n",
      "245\n",
      "252\n",
      "259\n",
      "266\n",
      "273\n",
      "280\n",
      "287\n",
      "294\n",
      "301\n",
      "308\n",
      "315\n",
      "322\n",
      "329\n",
      "336\n",
      "343\n",
      "350\n"
     ]
    }
   ],
   "source": [
    "obj = q1(350)\n",
    "for i in obj.func():\n",
    "    print(i)"
   ]
  },
  {
   "cell_type": "markdown",
   "id": "00a84ea3",
   "metadata": {},
   "source": [
    "# 2\n",
    "Write a program to compute the frequency of the words from the input. The output should output after sorting the key alphanumerically.\n",
    "\n",
    "Suppose the following input is supplied to the program:\n",
    "\n",
    "New to Python or choosing between Python 2 and Python 3? Read Python 2 or Python 3.\n",
    "\n",
    "Then, the output should be:\n",
    "\n",
    "2:2\n",
    "\n",
    "3.:1\n",
    "\n",
    "3?:1\n",
    "\n",
    "New:1\n",
    "\n",
    "Python:5\n",
    "\n",
    "Read:1\n",
    "\n",
    "and:1\n",
    "\n",
    "between:1\n",
    "\n",
    "choosing:1\n",
    "\n",
    "or:2\n",
    "\n",
    "to:1"
   ]
  },
  {
   "cell_type": "code",
   "execution_count": 9,
   "id": "b0014f81",
   "metadata": {},
   "outputs": [],
   "source": [
    "class q2:\n",
    "    def __init__(self):\n",
    "        self.inp = input(\"String pls = \")\n",
    "        self.d = {}\n",
    "    def func(self):\n",
    "        \n",
    "        for i in self.inp.split(\" \"):\n",
    "            if (self.d.get(i) == None):\n",
    "                self.d[i] = 1\n",
    "            else:\n",
    "                self.d[i] +=1\n",
    "                \n",
    "        for i in sorted(self.d):\n",
    "            print(f\"{i}:{self.d[i]}\",end=\" \")\n"
   ]
  },
  {
   "cell_type": "code",
   "execution_count": 10,
   "id": "dec695fe",
   "metadata": {},
   "outputs": [
    {
     "name": "stdout",
     "output_type": "stream",
     "text": [
      "String pls = New to Python or choosing between Python 2 and Python 3? Read Python 2 or Python 3.\n"
     ]
    }
   ],
   "source": [
    "obj = q2()"
   ]
  },
  {
   "cell_type": "code",
   "execution_count": 11,
   "id": "67033e07",
   "metadata": {},
   "outputs": [
    {
     "name": "stdout",
     "output_type": "stream",
     "text": [
      "2:2 3.:1 3?:1 New:1 Python:5 Read:1 and:1 between:1 choosing:1 or:2 to:1 "
     ]
    }
   ],
   "source": [
    "obj.func()"
   ]
  },
  {
   "cell_type": "markdown",
   "id": "e2bf374c",
   "metadata": {},
   "source": [
    "# 3\n",
    "Define a class Person and its two child classes: Male and Female. All classes have a method \"getGender\" which can print \"Male\" for Male class and \"Female\" for Female class"
   ]
  },
  {
   "cell_type": "code",
   "execution_count": 12,
   "id": "13e8ebdf",
   "metadata": {},
   "outputs": [
    {
     "name": "stdout",
     "output_type": "stream",
     "text": [
      "Male\n",
      "Female\n"
     ]
    }
   ],
   "source": [
    "class Person:\n",
    "    def getGender():\n",
    "        pass\n",
    "\n",
    "class Male(Person):\n",
    "    def getGender():\n",
    "        print(\"Male\")\n",
    "\n",
    "class Female(Person):\n",
    "    def getGender():\n",
    "        print('Female')\n",
    "        \n",
    "Male.getGender()\n",
    "Female.getGender()"
   ]
  },
  {
   "cell_type": "markdown",
   "id": "c699d0e8",
   "metadata": {},
   "source": [
    "# 4\n",
    "Please write a program to generate all sentences where subject is in [\"I\", \"You\"] and verb is in [\"Play\", \"Love\"] and the object is in [\"Hockey\",\"Football\"]."
   ]
  },
  {
   "cell_type": "code",
   "execution_count": 13,
   "id": "fb48c177",
   "metadata": {},
   "outputs": [],
   "source": [
    "class q4:\n",
    "    def __init__(self):\n",
    "        pass\n",
    "    def func(self):\n",
    "        s = ['I',\"You\"]\n",
    "        v = ['Play',\"Love\"]\n",
    "        o = ['Hockey',\"Football\"]\n",
    "        \n",
    "        for i in s:\n",
    "            for j in v:\n",
    "                for k in o:\n",
    "                    print(f\"{i} {j} {k}\")"
   ]
  },
  {
   "cell_type": "code",
   "execution_count": 14,
   "id": "ce8cc875",
   "metadata": {},
   "outputs": [
    {
     "name": "stdout",
     "output_type": "stream",
     "text": [
      "I Play Hockey\n",
      "I Play Football\n",
      "I Love Hockey\n",
      "I Love Football\n",
      "You Play Hockey\n",
      "You Play Football\n",
      "You Love Hockey\n",
      "You Love Football\n"
     ]
    }
   ],
   "source": [
    "obj = q4()\n",
    "obj.func()"
   ]
  },
  {
   "cell_type": "markdown",
   "id": "53871413",
   "metadata": {},
   "source": [
    "# 5\n",
    "Please write a program to compress and decompress the string \"hello world!hello world!hello world!hello world!\"."
   ]
  },
  {
   "cell_type": "code",
   "execution_count": 20,
   "id": "865e2b17",
   "metadata": {},
   "outputs": [],
   "source": [
    "class q5:\n",
    "    def __init__(self,inp_c,inp_d):\n",
    "        self.inpC = inp_c\n",
    "        self.inpD = inp_d\n",
    "    \n",
    "    def crs(self):\n",
    "        op = self.inpC[0]\n",
    "        count = 1\n",
    "        for i in range(len(self.inpC)-1):\n",
    "            if self.inpC[i] == self.inpC[i+1]:\n",
    "                count+=1\n",
    "            else:\n",
    "                if count >1:\n",
    "                    op += str(count)\n",
    "                op += self.inpC[i+1]\n",
    "                count = 1\n",
    "        if count > 1:\n",
    "            op += str(count)\n",
    "        print(op)\n",
    "     \n",
    "    def drs(self):\n",
    "        op = \"\"\n",
    "        for i in range(len(self.inpD)):\n",
    "            if self.inpD[i].isdigit():\n",
    "                op += op[-1]*(int(self.inpD[i])-1)\n",
    "            else:\n",
    "                op += self.inpD[i]\n",
    "        print(op)\n"
   ]
  },
  {
   "cell_type": "code",
   "execution_count": 22,
   "id": "94665c54",
   "metadata": {},
   "outputs": [
    {
     "name": "stdout",
     "output_type": "stream",
     "text": [
      "hel2o world!hel2o world!hel2o world!hel2o world!\n"
     ]
    }
   ],
   "source": [
    "obj = q5(\"hello world!hello world!hello world!hello world!\",\"hel2o world!hel2o world!hel2o world!hel2o world!\")\n",
    "obj.crs()"
   ]
  },
  {
   "cell_type": "code",
   "execution_count": 23,
   "id": "f5cc2596",
   "metadata": {},
   "outputs": [
    {
     "name": "stdout",
     "output_type": "stream",
     "text": [
      "hello world!hello world!hello world!hello world!\n"
     ]
    }
   ],
   "source": [
    "obj.drs()"
   ]
  },
  {
   "cell_type": "markdown",
   "id": "bb16ead1",
   "metadata": {},
   "source": [
    "# 6\n",
    "Please write a binary search function which searches an item in a sorted list. The function should return the index of element to be searched in the list."
   ]
  },
  {
   "cell_type": "code",
   "execution_count": 24,
   "id": "ff8141c5",
   "metadata": {},
   "outputs": [],
   "source": [
    "class q6:\n",
    "    def __init__(self,n):\n",
    "        self.inp = [1,2,3,4,5,6,7,8,9,10]\n",
    "        self.n = n\n",
    "    def func(self):\n",
    "        l = 0\n",
    "        h = len(self.inp)-1\n",
    "        while(l<=h):\n",
    "            m = h+l//2\n",
    "            if self.inp[m] < self.n:\n",
    "                l = m+1\n",
    "            elif self.inp[m] > self.n:\n",
    "                h = m-1\n",
    "            else:\n",
    "                return m\n",
    "        else:\n",
    "            return 'Reqd element not present'"
   ]
  },
  {
   "cell_type": "code",
   "execution_count": 26,
   "id": "4a8860ca",
   "metadata": {},
   "outputs": [
    {
     "data": {
      "text/plain": [
       "'Reqd element not present'"
      ]
     },
     "execution_count": 26,
     "metadata": {},
     "output_type": "execute_result"
    }
   ],
   "source": [
    "obj = q6(90)\n",
    "obj.func()"
   ]
  },
  {
   "cell_type": "code",
   "execution_count": null,
   "id": "81be8a17",
   "metadata": {},
   "outputs": [],
   "source": []
  }
 ],
 "metadata": {
  "kernelspec": {
   "display_name": "Python 3 (ipykernel)",
   "language": "python",
   "name": "python3"
  },
  "language_info": {
   "codemirror_mode": {
    "name": "ipython",
    "version": 3
   },
   "file_extension": ".py",
   "mimetype": "text/x-python",
   "name": "python",
   "nbconvert_exporter": "python",
   "pygments_lexer": "ipython3",
   "version": "3.8.12"
  }
 },
 "nbformat": 4,
 "nbformat_minor": 5
}
