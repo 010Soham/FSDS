{
 "cells": [
  {
   "cell_type": "markdown",
   "id": "82a82b4e",
   "metadata": {},
   "source": [
    "# 1\n",
    "Create a function that takes three arguments a, b, c and returns the sum of the numbers that are evenly divided by c from the range a, b inclusive. Examples evenly_divisible(1, 10, 20) ➞ 0\n",
    "No number between 1 and 10 can be evenly divided by 20.\n",
    "\n",
    "evenly_divisible(1, 10, 2) ➞ 30\n",
    "2 + 4 + 6 + 8 + 10 = 30\n",
    "\n",
    "evenly_divisible(1, 10, 3) ➞ 18\n",
    "3 + 6 + 9 = 18"
   ]
  },
  {
   "cell_type": "code",
   "execution_count": 8,
   "id": "396a1043",
   "metadata": {},
   "outputs": [],
   "source": [
    "class q1:\n",
    "    def __init__(self):\n",
    "        pass\n",
    "    def func(self,a,b,c):\n",
    "        ls = []\n",
    "        for i in range(a,b+1):\n",
    "            if i%c == 0:\n",
    "                ls.append(i)\n",
    "        print(f\"{a,b,c} ➞ {sum(ls)}\")"
   ]
  },
  {
   "cell_type": "code",
   "execution_count": 10,
   "id": "b4778ae0",
   "metadata": {},
   "outputs": [
    {
     "name": "stdout",
     "output_type": "stream",
     "text": [
      "(1, 10, 2) ➞ 30\n"
     ]
    }
   ],
   "source": [
    "obj = q1()\n",
    "obj.func(1,10,2)"
   ]
  },
  {
   "cell_type": "markdown",
   "id": "c3ee9abc",
   "metadata": {},
   "source": [
    "# 2\n",
    " Create a function that returns True if a given inequality expression is correct and False otherwise. Examples correct_signs(\"3 < 7 < 11\") ➞ True\n",
    "\n",
    "correct_signs(\"13 > 44 > 33 > 1\") ➞ False\n",
    "\n",
    "correct_signs(\"1 < 2 < 6 < 9 > 3\") ➞ True"
   ]
  },
  {
   "cell_type": "code",
   "execution_count": 13,
   "id": "75b8bc87",
   "metadata": {},
   "outputs": [],
   "source": [
    "class q2:\n",
    "    def __init__(self):\n",
    "        self.inp = input(\"Enter inequality pls \")\n",
    "    \n",
    "    def func(self):\n",
    "        op = eval(self.inp)\n",
    "        print(f\"{self.inp} ➞ {op}\")\n"
   ]
  },
  {
   "cell_type": "code",
   "execution_count": 14,
   "id": "9ce5f419",
   "metadata": {},
   "outputs": [
    {
     "name": "stdout",
     "output_type": "stream",
     "text": [
      "Enter inequality pls 3 < 7 < 11\n",
      "3 < 7 < 11 ➞ True\n"
     ]
    }
   ],
   "source": [
    "obj = q2()\n",
    "obj.func()"
   ]
  },
  {
   "cell_type": "markdown",
   "id": "6d155021",
   "metadata": {},
   "source": [
    "# 3\n",
    "Create a function that replaces all the vowels in a string with a specified character. Examples replace_vowels(\"the aardvark\", \"#\") ➞ \"th# ##rdv#rk\"\n",
    "\n",
    "replace_vowels(\"minnie mouse\", \"?\") ➞ \"m?nn?? m??s?\"\n",
    "\n",
    "replace_vowels(\"shakespeare\", \"\") ➞ \"shkspr\""
   ]
  },
  {
   "cell_type": "code",
   "execution_count": 15,
   "id": "ff13e0ee",
   "metadata": {},
   "outputs": [],
   "source": [
    "class q3:\n",
    "    def __init__(self):\n",
    "        self.vowel = ['a','e','i','o','u','A','E','I','O','U']\n",
    "        self.inp = input(\"String pls: \")\n",
    "        self.inp_2 = self.inp\n",
    "        self.rep = input(\"Replacement pls:  \")\n",
    "    def func(self):\n",
    "        for i in self.inp:\n",
    "            if i in self.vowel:\n",
    "                self.inp = self.inp_2.replace(i,self.rep)\n",
    "                print(f\"{self.inp_2} {self.rep} ➞ {self.inp}\")"
   ]
  },
  {
   "cell_type": "code",
   "execution_count": 16,
   "id": "fa9f8acd",
   "metadata": {},
   "outputs": [
    {
     "name": "stdout",
     "output_type": "stream",
     "text": [
      "String pls: the aardvark\n",
      "Replacement pls:  #\n",
      "the aardvark # ➞ th# aardvark\n",
      "the aardvark # ➞ the ##rdv#rk\n",
      "the aardvark # ➞ the ##rdv#rk\n",
      "the aardvark # ➞ the ##rdv#rk\n"
     ]
    }
   ],
   "source": [
    "obj  = q3()\n",
    "obj.func()"
   ]
  },
  {
   "cell_type": "markdown",
   "id": "96fd9462",
   "metadata": {},
   "source": [
    "# 4\n",
    "Write a function that calculates the factorial of a number recursively. Examples factorial(5) ➞ 120\n",
    "\n",
    "factorial(3) ➞ 6\n",
    "\n",
    "factorial(1) ➞ 1\n",
    "\n",
    "factorial(0) ➞ 1"
   ]
  },
  {
   "cell_type": "code",
   "execution_count": 17,
   "id": "8999329e",
   "metadata": {},
   "outputs": [],
   "source": [
    "class q4:\n",
    "    def __init__(self):\n",
    "        pass\n",
    "    def func(self,num):\n",
    "        if num == 0:\n",
    "            return 1\n",
    "        return num*self.func(num-1)"
   ]
  },
  {
   "cell_type": "code",
   "execution_count": 18,
   "id": "698757ef",
   "metadata": {},
   "outputs": [
    {
     "data": {
      "text/plain": [
       "120"
      ]
     },
     "execution_count": 18,
     "metadata": {},
     "output_type": "execute_result"
    }
   ],
   "source": [
    "obj = q4()\n",
    "obj.func(5)"
   ]
  },
  {
   "cell_type": "markdown",
   "id": "6e77078e",
   "metadata": {},
   "source": [
    "# 5\n",
    " Hamming distance is the number of characters that differ between two strings. To illustrate: String1: \"abcbba\" String2: \"abcbda\"\n",
    "\n",
    "Hamming Distance: 1 - \"b\" vs. \"d\" is the only difference. Create a function that computes the hamming distance between two strings. Examples hamming_distance(\"abcde\", \"bcdef\") ➞ 5\n",
    "\n",
    "hamming_distance(\"abcde\", \"abcde\") ➞ 0\n",
    "\n",
    "hamming_distance(\"strong\", \"strung\") ➞ 1"
   ]
  },
  {
   "cell_type": "code",
   "execution_count": 19,
   "id": "b0bb4993",
   "metadata": {},
   "outputs": [],
   "source": [
    "class q5:\n",
    "    def __init__(self):\n",
    "        self.inp_1 = input(\"Enter string 1: \")\n",
    "        self.inp_2 = input(\"Enter string 2: \")\n",
    "    def func(self):\n",
    "        if len(self.inp_1) == len(self.inp_2):\n",
    "            count=0\n",
    "            for i in range(len(self.inp_1)):\n",
    "                if self.inp_1[i] != self.inp_2[i]:\n",
    "                    count+=1\n",
    "            print(f\"Hamming dist b/w {self.inp_1} and {self.inp_2} ➞ {count}\")\n",
    "        else:\n",
    "            print(\"Both string should be of same length\")\n"
   ]
  },
  {
   "cell_type": "code",
   "execution_count": 20,
   "id": "e69091a0",
   "metadata": {},
   "outputs": [
    {
     "name": "stdout",
     "output_type": "stream",
     "text": [
      "Enter string 1: abcde\n",
      "Enter string 2: bcdef\n",
      "Hamming dist b/w abcde and bcdef ➞ 5\n"
     ]
    }
   ],
   "source": [
    "obj = q5()\n",
    "obj.func()"
   ]
  },
  {
   "cell_type": "code",
   "execution_count": null,
   "id": "431485d4",
   "metadata": {},
   "outputs": [],
   "source": []
  }
 ],
 "metadata": {
  "kernelspec": {
   "display_name": "Python 3 (ipykernel)",
   "language": "python",
   "name": "python3"
  },
  "language_info": {
   "codemirror_mode": {
    "name": "ipython",
    "version": 3
   },
   "file_extension": ".py",
   "mimetype": "text/x-python",
   "name": "python",
   "nbconvert_exporter": "python",
   "pygments_lexer": "ipython3",
   "version": "3.8.12"
  }
 },
 "nbformat": 4,
 "nbformat_minor": 5
}
