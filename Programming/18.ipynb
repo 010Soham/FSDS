{
 "cells": [
  {
   "cell_type": "markdown",
   "id": "07a61bdb",
   "metadata": {},
   "source": [
    "# 1\n",
    "Create a function that takes a list of non-negative integers and strings and return a new list without the strings. Examples filter_list([1, 2, \"a\", \"b\"]) ➞ [1, 2]\n",
    "\n",
    "filter_list([1, \"a\", \"b\", 0, 15]) ➞ [1, 0, 15]\n",
    "\n",
    "filter_list([1, 2, \"aasf\", \"1\", \"123\", 123]) ➞ [1, 2, 123]"
   ]
  },
  {
   "cell_type": "code",
   "execution_count": 1,
   "id": "9de36136",
   "metadata": {},
   "outputs": [],
   "source": [
    "class q1:\n",
    "    def __init__(self):\n",
    "        pass\n",
    "    def func(self,ls):\n",
    "        op  = []\n",
    "        for i in ls:\n",
    "            if type(i) == int and i >=0:\n",
    "                op.append(i)\n",
    "        return op"
   ]
  },
  {
   "cell_type": "code",
   "execution_count": 2,
   "id": "04e77e60",
   "metadata": {},
   "outputs": [
    {
     "name": "stdout",
     "output_type": "stream",
     "text": [
      "➞ [1, 2]\n"
     ]
    }
   ],
   "source": [
    "obj = q1()\n",
    "print(f'➞ {obj.func([1, 2, \"a\", \"b\"])}')"
   ]
  },
  {
   "cell_type": "markdown",
   "id": "4495e272",
   "metadata": {},
   "source": [
    "# 2\n",
    "The \"Reverser\" takes a string as input and returns that string in reverse order, with the opposite case. Examples reverse(\"Hello World\") ➞ \"DLROw OLLEh\"\n",
    "\n",
    "reverse(\"ReVeRsE\") ➞ \"eSrEvEr\"\n",
    "\n",
    "reverse(\"Radar\") ➞ \"RADAr\""
   ]
  },
  {
   "cell_type": "code",
   "execution_count": 5,
   "id": "ccb02780",
   "metadata": {},
   "outputs": [],
   "source": [
    "class q2:\n",
    "    def __init__(self):\n",
    "        pass\n",
    "    def func(self,ls):\n",
    "        print(f\"{ls}->{ls[::-1].swapcase()}\")"
   ]
  },
  {
   "cell_type": "code",
   "execution_count": 6,
   "id": "ef2214ac",
   "metadata": {},
   "outputs": [
    {
     "name": "stdout",
     "output_type": "stream",
     "text": [
      "Hello World->DLROw OLLEh\n"
     ]
    }
   ],
   "source": [
    "obj = q2()\n",
    "obj.func(\"Hello World\")"
   ]
  },
  {
   "cell_type": "markdown",
   "id": "c01736cc",
   "metadata": {},
   "source": [
    "# 3\n",
    "You can assign variables from lists like this: lst = [1, 2, 3, 4, 5, 6] first = lst[0] middle = lst[1:-1] last = lst[-1]\n",
    "\n",
    "print(first) ➞ outputs 1 print(middle) ➞ outputs [2, 3, 4, 5] print(last) ➞ outputs 6 With Python 3, you can assign variables from lists in a much more succinct way. Create variables first, middle and last from the given list using destructuring assignment (check the Resources tab for some examples), where: first ➞ 1\n",
    "\n",
    "middle ➞ [2, 3, 4, 5]\n",
    "\n",
    "last ➞ 6\n",
    "\n",
    "Your task is to unpack the list writeyourcodehere into three variables, being first, middle, and last, with middle being everything in between the first and last element. Then print all three variables."
   ]
  },
  {
   "cell_type": "code",
   "execution_count": 7,
   "id": "7527a811",
   "metadata": {},
   "outputs": [],
   "source": [
    "class q3:\n",
    "    def __init__(self):\n",
    "        pass\n",
    "    def func(self):\n",
    "        f,*m,l = [1,2,3,4,5,6]\n",
    "        print(f\"first ➞{f}\")\n",
    "        print(f\"middle ➞{m}\")\n",
    "        print(f\"last ➞{l}\")\n"
   ]
  },
  {
   "cell_type": "code",
   "execution_count": 8,
   "id": "df9da7d4",
   "metadata": {},
   "outputs": [
    {
     "name": "stdout",
     "output_type": "stream",
     "text": [
      "first ➞1\n",
      "middle ➞[2, 3, 4, 5]\n",
      "last ➞6\n"
     ]
    }
   ],
   "source": [
    "obj = q3()\n",
    "obj.func()"
   ]
  },
  {
   "cell_type": "markdown",
   "id": "71e833fa",
   "metadata": {},
   "source": [
    "# 4\n",
    "Write a function that calculates the factorial of a number recursively. Examples factorial(5) ➞ 120\n",
    "\n",
    "factorial(3) ➞ 6\n",
    "\n",
    "factorial(1) ➞ 1\n",
    "\n",
    "factorial(0) ➞ 1"
   ]
  },
  {
   "cell_type": "code",
   "execution_count": 9,
   "id": "9f46f325",
   "metadata": {},
   "outputs": [],
   "source": [
    "class q4:\n",
    "    def __init__(self):\n",
    "        pass\n",
    "    def func(self,num):\n",
    "        if num==0:\n",
    "            return 1\n",
    "        return num*self.func(num-1)"
   ]
  },
  {
   "cell_type": "code",
   "execution_count": 11,
   "id": "eda2d757",
   "metadata": {},
   "outputs": [
    {
     "data": {
      "text/plain": [
       "120"
      ]
     },
     "execution_count": 11,
     "metadata": {},
     "output_type": "execute_result"
    }
   ],
   "source": [
    "obj = q4()\n",
    "obj.func(5)"
   ]
  },
  {
   "cell_type": "markdown",
   "id": "9573d1ac",
   "metadata": {},
   "source": [
    "# 5\n",
    "Write a function that moves all elements of one type to the end of the list. Examples move_to_end([1, 3, 2, 4, 4, 1], 1) ➞ [3, 2, 4, 4, 1, 1]\n",
    "Move all the 1s to the end of the array.\n",
    "\n",
    "move_to_end([7, 8, 9, 1, 2, 3, 4], 9) ➞ [7, 8, 1, 2, 3, 4, 9]\n",
    "\n",
    "move_to_end([\"a\", \"a\", \"a\", \"b\"], \"a\") ➞ [\"b\", \"a\", \"a\", \"a\"]"
   ]
  },
  {
   "cell_type": "code",
   "execution_count": 12,
   "id": "6f6867b1",
   "metadata": {},
   "outputs": [],
   "source": [
    "class q5:\n",
    "    def __init__(self):\n",
    "        pass\n",
    "    def func(self,ls,num):\n",
    "        l = []\n",
    "        h = []\n",
    "        for i in ls:\n",
    "            if i == num:\n",
    "                h.append(i)\n",
    "            else:\n",
    "                l.append(i)\n",
    "        l.extend(h)\n",
    "        return l"
   ]
  },
  {
   "cell_type": "code",
   "execution_count": 13,
   "id": "49bd65fc",
   "metadata": {},
   "outputs": [
    {
     "name": "stdout",
     "output_type": "stream",
     "text": [
      "move_to_end([1, 3, 2, 4, 4, 1], 1)➞ [3, 2, 4, 4, 1, 1]\n"
     ]
    }
   ],
   "source": [
    "obj = q5()\n",
    "print(f\"move_to_end([1, 3, 2, 4, 4, 1], 1)➞ {obj.func([1, 3, 2, 4, 4, 1], 1)}\")"
   ]
  },
  {
   "cell_type": "code",
   "execution_count": null,
   "id": "5e05520a",
   "metadata": {},
   "outputs": [],
   "source": []
  }
 ],
 "metadata": {
  "kernelspec": {
   "display_name": "Python 3 (ipykernel)",
   "language": "python",
   "name": "python3"
  },
  "language_info": {
   "codemirror_mode": {
    "name": "ipython",
    "version": 3
   },
   "file_extension": ".py",
   "mimetype": "text/x-python",
   "name": "python",
   "nbconvert_exporter": "python",
   "pygments_lexer": "ipython3",
   "version": "3.8.12"
  }
 },
 "nbformat": 4,
 "nbformat_minor": 5
}
