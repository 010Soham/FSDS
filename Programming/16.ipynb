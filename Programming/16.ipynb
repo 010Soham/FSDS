{
 "cells": [
  {
   "cell_type": "markdown",
   "id": "9411e960",
   "metadata": {},
   "source": [
    "# 1\n",
    "Write a function that stutters a word as if someone is struggling to read it. The first two letters are repeated twice with an ellipsis ... and space after each, and then the word is pronounced with a question mark ?. Examples stutter(\"incredible\") ➞ \"in... in... incredible?\"\n",
    "\n",
    "stutter(\"enthusiastic\") ➞ \"en... en... enthusiastic?\"\n",
    "\n",
    "stutter(\"outstanding\") ➞ \"ou... ou... outstanding?\"\n",
    "\n",
    "Hint :- Assume all input is in lower case and at least two characters long."
   ]
  },
  {
   "cell_type": "code",
   "execution_count": 1,
   "id": "0a731e2e",
   "metadata": {},
   "outputs": [],
   "source": [
    "class q1:\n",
    "    def __init__(self):\n",
    "        self.inp = input(\"Input pls = \")\n",
    "    def func(self):\n",
    "        op  = self.inp.replace(self.inp[0:2],((self.inp[0:2]+\"..\")*2)+self.inp[0:2])+'?'\n",
    "        print(f\"{self.inp}➞{op}\")"
   ]
  },
  {
   "cell_type": "code",
   "execution_count": 2,
   "id": "adb7def5",
   "metadata": {},
   "outputs": [
    {
     "name": "stdout",
     "output_type": "stream",
     "text": [
      "Input pls = enthusiastic\n",
      "enthusiastic➞en..en..enthusiastic?\n"
     ]
    }
   ],
   "source": [
    "obj = q1()\n",
    "obj.func()"
   ]
  },
  {
   "cell_type": "markdown",
   "id": "60bb45fa",
   "metadata": {},
   "source": [
    "# 2\n",
    "Create a function that takes an angle in radians and returns the corresponding angle in degrees rounded to one decimal place. Examples radians_to_degrees(1) ➞ 57.3\n",
    "\n",
    "radians_to_degrees(20) ➞ 1145.9\n",
    "\n",
    "radians_to_degrees(50) ➞ 2864.8"
   ]
  },
  {
   "cell_type": "code",
   "execution_count": 3,
   "id": "05717c95",
   "metadata": {},
   "outputs": [],
   "source": [
    "import math\n",
    "class q2:\n",
    "    def __init__(self):\n",
    "        self.inp = int(input(\"Angle in radians pls \"))\n",
    "    def func(self):\n",
    "        op = (180/math.pi)*self.inp\n",
    "        print(f\"{self.inp} radians ➞ {op:.1f} degress \")\n",
    "def radianToDegree():\n",
    "    in_num = int(input('Enter the angle in Radians: '))\n",
    "    out_num = (180/math.pi)*in_num\n",
    "    print(f'{in_num} radian(s) ➞ {out_num:.1f} degrees')\n"
   ]
  },
  {
   "cell_type": "code",
   "execution_count": 4,
   "id": "389741d9",
   "metadata": {},
   "outputs": [
    {
     "name": "stdout",
     "output_type": "stream",
     "text": [
      "Angle in radians pls 20\n",
      "20 radians ➞ 1145.9 degress \n"
     ]
    }
   ],
   "source": [
    "obj = q2()\n",
    "obj.func()"
   ]
  },
  {
   "cell_type": "markdown",
   "id": "33eea9e5",
   "metadata": {},
   "source": [
    "# 3\n",
    "In this challenge, establish if a given integer num is a Curzon number. If 1 plus 2 elevated to num is exactly divisible by 1 plus 2 multiplied by num, then num is a Curzon number. Given a non-negative integer num, implement a function that returns True if num is a Curzon number, or False otherwise. Examples is_curzon(5) ➞ True\n",
    "2 ** 5 + 1 = 33\n",
    "2 * 5 + 1 = 11\n",
    "33 is a multiple of 11\n",
    "\n",
    "is_curzon(10) ➞ False\n",
    "2 ** 10 + 1 = 1025\n",
    "2 * 10 + 1 = 21\n",
    "1025 is not a multiple of 21\n",
    "\n",
    "is_curzon(14) ➞ True\n",
    "2 ** 14 + 1 = 16385\n",
    "2 * 14 + 1 = 29\n",
    "16385 is a multiple of 29"
   ]
  },
  {
   "cell_type": "code",
   "execution_count": 11,
   "id": "17dee29e",
   "metadata": {},
   "outputs": [],
   "source": [
    "class q3:\n",
    "    def __init__(self):\n",
    "        self.inp = int(input(\"Number pls \"))\n",
    "    def func(self):\n",
    "        if (pow(2,self.inp)+1)%((2*self.inp)+1) == 0:\n",
    "            print(f\"{self.inp} is Curzon number\")\n",
    "        else:\n",
    "            print(f\"{self.inp} not a Curzon number\")\n"
   ]
  },
  {
   "cell_type": "code",
   "execution_count": 13,
   "id": "98156e3c",
   "metadata": {},
   "outputs": [
    {
     "name": "stdout",
     "output_type": "stream",
     "text": [
      "Number pls 5\n",
      "5 is Curzon number\n",
      "Number pls 10\n",
      "10 not a Curzon number\n"
     ]
    }
   ],
   "source": [
    "for i in range(2):\n",
    "    obj = q3()\n",
    "    obj.func()"
   ]
  },
  {
   "cell_type": "markdown",
   "id": "1bffc9b0",
   "metadata": {},
   "source": [
    "# 4\n",
    "Given the side length x find the area of a hexagon.\n",
    "\n",
    "Examples area_of_hexagon(1) ➞ 2.6\n",
    "\n",
    "area_of_hexagon(2) ➞ 10.4\n",
    "\n",
    "area_of_hexagon(3) ➞ 23.4"
   ]
  },
  {
   "cell_type": "code",
   "execution_count": 14,
   "id": "86fa622b",
   "metadata": {},
   "outputs": [],
   "source": [
    "import math\n",
    "class q4:\n",
    "    def __init__(self):\n",
    "        self.inp = int(input(\"Enter side length of hexagon pls \"))\n",
    "    \n",
    "    def func(self):\n",
    "        op = ((3*math.sqrt(3))/2)*(pow(self.inp,2))\n",
    "        print(f\"Area for hexagon of side {self.inp} ➞ {op:.1f}\")"
   ]
  },
  {
   "cell_type": "code",
   "execution_count": 15,
   "id": "ba730437",
   "metadata": {},
   "outputs": [
    {
     "name": "stdout",
     "output_type": "stream",
     "text": [
      "Enter side length of hexagon pls 2\n",
      "Area for hexagon of side 2 ➞ 10.4\n",
      "Enter side length of hexagon pls 3\n",
      "Area for hexagon of side 3 ➞ 23.4\n"
     ]
    }
   ],
   "source": [
    "for x in range(2):\n",
    "    obj = q4()\n",
    "    obj.func()"
   ]
  },
  {
   "cell_type": "markdown",
   "id": "e2edaeeb",
   "metadata": {},
   "source": [
    "# 5\n",
    " Create a function that returns a base-2 (binary) representation of a base-10 (decimal) string number. To convert is simple: ((2) means base-2 and (10) means base-10) 010101001(2) = 1 + 8 + 32 + 128. Going from right to left, the value of the most right bit is 1, now from that every bit to the left will be x2 the value, value of an 8 bit binary numbers are (256, 128, 64, 32, 16, 8, 4, 2, 1). Examples binary(1) ➞ \"1\"\n",
    "1*1 = 1\n",
    "\n",
    "binary(5) ➞ \"101\"\n",
    "11 + 14 = 5\n",
    "\n",
    "binary(10) ➞ \"1010\"\n",
    "12 + 18 = 10"
   ]
  },
  {
   "cell_type": "code",
   "execution_count": 19,
   "id": "aeac903a",
   "metadata": {},
   "outputs": [],
   "source": [
    "class q5:\n",
    "    def __init__(self):\n",
    "        self.inp = int(input(\"Number pls \"))\n",
    "    def func(self):\n",
    "        op = bin(self.inp).replace('0b','')\n",
    "        print(f\"Binary of {self.inp} ➞ {op}\")    "
   ]
  },
  {
   "cell_type": "code",
   "execution_count": 20,
   "id": "8182cca9",
   "metadata": {},
   "outputs": [
    {
     "name": "stdout",
     "output_type": "stream",
     "text": [
      "Number pls 5\n",
      "Binary of 5 ➞ 101\n",
      "Number pls 10\n",
      "Binary of 10 ➞ 1010\n",
      "Number pls 15\n",
      "Binary of 15 ➞ 1111\n"
     ]
    }
   ],
   "source": [
    "for x in range(3):\n",
    "    obj = q5()\n",
    "    obj.func()"
   ]
  },
  {
   "cell_type": "code",
   "execution_count": null,
   "id": "db158fcf",
   "metadata": {},
   "outputs": [],
   "source": []
  }
 ],
 "metadata": {
  "kernelspec": {
   "display_name": "Python 3 (ipykernel)",
   "language": "python",
   "name": "python3"
  },
  "language_info": {
   "codemirror_mode": {
    "name": "ipython",
    "version": 3
   },
   "file_extension": ".py",
   "mimetype": "text/x-python",
   "name": "python",
   "nbconvert_exporter": "python",
   "pygments_lexer": "ipython3",
   "version": "3.8.12"
  }
 },
 "nbformat": 4,
 "nbformat_minor": 5
}
